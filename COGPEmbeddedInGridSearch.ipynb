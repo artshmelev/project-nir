{
 "metadata": {
  "name": "",
  "signature": "sha256:9cfc00ea35ca74e4866ff2b46ae93a7dfcb6599cc0322bca19d491cac6cc863f"
 },
 "nbformat": 3,
 "nbformat_minor": 0,
 "worksheets": [
  {
   "cells": [
    {
     "cell_type": "code",
     "collapsed": false,
     "input": [
      "%matplotlib inline\n",
      "\n",
      "import time\n",
      "import pandas\n",
      "import numpy as np\n",
      "from matplotlib import pyplot as pl\n",
      "\n",
      "from sklearn.datasets import load_digits\n",
      "from sklearn.svm import SVC\n",
      "from sklearn.ensemble import AdaBoostClassifier\n",
      "from sklearn.grid_search import GridSearchCV\n",
      "from grid_search_cogp import COGPGridSearch\n",
      "\n",
      "\n",
      "digits = load_digits()\n",
      "X = digits.images.reshape((len(digits.images), -1))\n",
      "y = digits.target"
     ],
     "language": "python",
     "metadata": {},
     "outputs": [],
     "prompt_number": 1
    },
    {
     "cell_type": "code",
     "collapsed": false,
     "input": [
      "algorithms = [GridSearchCV, COGPGridSearch]\n",
      "\n",
      "param_grid = [{'kernel': ['rbf'], 'gamma': [1e-5, 1e-4, 1e-2],\n",
      "               'C': [1, 5, 10, 50, 100, 200, 500, 1000]}]\n",
      "\n",
      "scores = ['precision', 'recall']\n",
      "\n",
      "for score in scores:\n",
      "    for algorithm in algorithms:\n",
      "        grid_search = algorithm(SVC(C=1), param_grid=param_grid,\n",
      "                                scoring='%s_weighted' % score)\n",
      "\n",
      "        start_time = time.time()\n",
      "        #grid_search.fit_with_max_evals(X, y, 15)\n",
      "        grid_search.fit(X, y)\n",
      "        \n",
      "        print 'Score:', score\n",
      "        print 'Algorithm:', algorithm.__name__\n",
      "        print 'Time:', time.time() - start_time\n",
      "        print 'Best params:', grid_search.best_params_\n",
      "        print '-' * 80"
     ],
     "language": "python",
     "metadata": {},
     "outputs": [
      {
       "output_type": "stream",
       "stream": "stdout",
       "text": [
        "Score: precision\n",
        "Algorithm: GridSearchCV\n",
        "Time: 20.6529409885\n",
        "Best params: {'kernel': 'rbf', 'C': 5, 'gamma': 0.0001}\n",
        "--------------------------------------------------------------------------------\n",
        "Score:"
       ]
      },
      {
       "output_type": "stream",
       "stream": "stdout",
       "text": [
        " precision\n",
        "Algorithm: COGPGridSearch\n",
        "Time: 17.4921500683\n",
        "Best params: {'kernel': 'rbf', 'C': 5, 'gamma': 0.0001}\n",
        "--------------------------------------------------------------------------------\n",
        "Score:"
       ]
      },
      {
       "output_type": "stream",
       "stream": "stdout",
       "text": [
        " recall\n",
        "Algorithm: GridSearchCV\n",
        "Time: 20.5630800724\n",
        "Best params: {'kernel': 'rbf', 'C': 5, 'gamma': 0.0001}\n",
        "--------------------------------------------------------------------------------\n",
        "Score:"
       ]
      },
      {
       "output_type": "stream",
       "stream": "stdout",
       "text": [
        " recall\n",
        "Algorithm: COGPGridSearch\n",
        "Time: 16.8129179478\n",
        "Best params: {'kernel': 'rbf', 'C': 5, 'gamma': 0.0001}\n",
        "--------------------------------------------------------------------------------\n"
       ]
      }
     ],
     "prompt_number": 2
    },
    {
     "cell_type": "code",
     "collapsed": false,
     "input": [
      "param_grid = [{'n_estimators': [10, 12, 14, 16, 20, 24, 30, 32, 34],\n",
      "               'learning_rate': [0.12, 0.1, 0.09, 0.08, 0.07, 0.06, 0.05]}]\n",
      "\n",
      "t0 = time.time()\n",
      "gs = GridSearchCV(AdaBoostClassifier(), param_grid=param_grid, scoring='precision_weighted')\n",
      "gs.fit(X, y)\n",
      "print 'GridSearchCV: best_params=', gs.best_params_, '; time=', time.time()-t0\n",
      "\n",
      "t0 = time.time()\n",
      "gs = COGPGridSearch(AdaBoostClassifier(), param_grid=param_grid, scoring='precision_weighted')\n",
      "gs.fit_with_max_evals(X, y, 10)\n",
      "print 'COGPGridSearch: best_params=', gs.best_params_, '; time=', time.time()-t0\n",
      "\n",
      "t0 = time.time()\n",
      "gs = COGPGridSearch(AdaBoostClassifier(), param_grid=param_grid, scoring='precision_weighted')\n",
      "gs.fit_with_max_evals(X, y, 5)\n",
      "print 'COGPGridSearch: best_params=', gs.best_params_, '; time=', time.time()-t0"
     ],
     "language": "python",
     "metadata": {},
     "outputs": [
      {
       "output_type": "stream",
       "stream": "stdout",
       "text": [
        "GridSearchCV: best_params= {'n_estimators': 30, 'learning_rate': 0.1} ; time= 22.9318809509\n",
        "COGPGridSearch: best_params="
       ]
      },
      {
       "output_type": "stream",
       "stream": "stdout",
       "text": [
        " {'n_estimators': 30, 'learning_rate': 0.1} ; time= 5.49488592148\n",
        "COGPGridSearch: best_params="
       ]
      },
      {
       "output_type": "stream",
       "stream": "stdout",
       "text": [
        " {'n_estimators': 30, 'learning_rate': 0.1} ; time= 3.15549993515\n"
       ]
      },
      {
       "output_type": "stream",
       "stream": "stderr",
       "text": [
        "/usr/local/lib/python2.7/dist-packages/sklearn/metrics/classification.py:959: UndefinedMetricWarning: Precision is ill-defined and being set to 0.0 in labels with no predicted samples.\n",
        "  'precision', 'predicted', average, warn_for)\n"
       ]
      }
     ],
     "prompt_number": 3
    },
    {
     "cell_type": "code",
     "collapsed": false,
     "input": [
      "import csv\n",
      "training_dataset = 'Higgs.csv'\n",
      "data = np.array(list(csv.reader(open(training_dataset, 'rb'), delimiter= '\\t')))\n",
      "X_train = np.array(data[1:,1:-2], float)\n",
      "y_train = np.array([int(row[-1] == 's') for row in data[1:]])\n",
      "#w_train = np.array([float(row[-2]) for row in data[1:]])"
     ],
     "language": "python",
     "metadata": {},
     "outputs": [],
     "prompt_number": 4
    },
    {
     "cell_type": "code",
     "collapsed": false,
     "input": [
      "param_grid = [{'n_estimators': [20, 30],\n",
      "               'learning_rate': [0.05, 0.1]}]\n",
      "\n",
      "t0 = time.time()\n",
      "gs = GridSearchCV(AdaBoostClassifier(), param_grid=param_grid, scoring='precision_weighted')\n",
      "gs.fit(X_train, y_train)\n",
      "print 'GridSearchCV: best_params=', gs.best_params_, '; time=', time.time()-t0\n",
      "\n",
      "t0 = time.time()\n",
      "gs = COGPGridSearch(AdaBoostClassifier(), param_grid=param_grid, scoring='precision_weighted')\n",
      "gs.fit(X_train, y_train)\n",
      "print 'COGPGridSearch: best_params=', gs.best_params_, '; time=', time.time()-t0"
     ],
     "language": "python",
     "metadata": {},
     "outputs": [
      {
       "output_type": "stream",
       "stream": "stdout",
       "text": [
        "GridSearchCV: best_params= {'n_estimators': 30, 'learning_rate': 0.1} ; time= 411.277390957\n",
        "COGPGridSearch: best_params="
       ]
      },
      {
       "output_type": "stream",
       "stream": "stdout",
       "text": [
        " {'n_estimators': 30, 'learning_rate': 0.1} ; time= 515.472960949\n"
       ]
      }
     ],
     "prompt_number": 5
    },
    {
     "cell_type": "code",
     "collapsed": false,
     "input": [],
     "language": "python",
     "metadata": {},
     "outputs": []
    }
   ],
   "metadata": {}
  }
 ]
}