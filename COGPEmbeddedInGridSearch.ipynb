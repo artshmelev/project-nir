{
 "metadata": {
  "name": "",
  "signature": "sha256:b577c732de1af52e4f781815731544e3959ef614aa7b21704a46203f374555d0"
 },
 "nbformat": 3,
 "nbformat_minor": 0,
 "worksheets": [
  {
   "cells": [
    {
     "cell_type": "code",
     "collapsed": false,
     "input": [
      "%matplotlib inline\n",
      "\n",
      "import csv\n",
      "import time\n",
      "import pandas\n",
      "import numpy as np\n",
      "from matplotlib import pyplot as pl\n",
      "\n",
      "from sklearn.cross_validation import train_test_split\n",
      "from sklearn.datasets import load_digits\n",
      "from sklearn.svm import SVC\n",
      "from sklearn.ensemble import AdaBoostClassifier\n",
      "from sklearn.grid_search import GridSearchCV\n",
      "from grid_search_cogp import COGPGridSearch\n",
      "\n",
      "\n",
      "digits = load_digits()\n",
      "X = digits.images.reshape((len(digits.images), -1))\n",
      "y = digits.target"
     ],
     "language": "python",
     "metadata": {},
     "outputs": [],
     "prompt_number": 1
    },
    {
     "cell_type": "code",
     "collapsed": false,
     "input": [
      "algorithms = [GridSearchCV, COGPGridSearch]\n",
      "\n",
      "param_grid = [{'kernel': ['rbf'], 'gamma': [1e-5, 1e-4, 1e-2],\n",
      "               'C': [1, 5, 10, 50, 100, 200, 500, 1000]}]\n",
      "\n",
      "scores = ['precision', 'recall']\n",
      "\n",
      "for score in scores:\n",
      "    for algorithm in algorithms:\n",
      "        grid_search = algorithm(SVC(C=1), param_grid=param_grid,\n",
      "                                scoring='%s_weighted' % score)\n",
      "\n",
      "        start_time = time.time()\n",
      "        #grid_search.fit_with_max_evals(X, y, 15)\n",
      "        grid_search.fit(X, y)\n",
      "        \n",
      "        print 'Score:', score\n",
      "        print 'Algorithm:', algorithm.__name__\n",
      "        print 'Time:', time.time() - start_time\n",
      "        print 'Best params:', grid_search.best_params_\n",
      "        print '-' * 80"
     ],
     "language": "python",
     "metadata": {},
     "outputs": [
      {
       "output_type": "stream",
       "stream": "stdout",
       "text": [
        "Score: precision\n",
        "Algorithm: GridSearchCV\n",
        "Time: 20.6105320454\n",
        "Best params: {'kernel': 'rbf', 'C': 5, 'gamma': 0.0001}\n",
        "--------------------------------------------------------------------------------\n",
        "Score:"
       ]
      },
      {
       "output_type": "stream",
       "stream": "stdout",
       "text": [
        " precision\n",
        "Algorithm: COGPGridSearch\n",
        "Time: 17.4125378132\n",
        "Best params: {'kernel': 'rbf', 'C': 5, 'gamma': 0.0001}\n",
        "--------------------------------------------------------------------------------\n",
        "Score:"
       ]
      },
      {
       "output_type": "stream",
       "stream": "stdout",
       "text": [
        " recall\n",
        "Algorithm: GridSearchCV\n",
        "Time: 20.6274130344\n",
        "Best params: {'kernel': 'rbf', 'C': 5, 'gamma': 0.0001}\n",
        "--------------------------------------------------------------------------------\n",
        "Score:"
       ]
      },
      {
       "output_type": "stream",
       "stream": "stdout",
       "text": [
        " recall\n",
        "Algorithm: COGPGridSearch\n",
        "Time: 16.8869349957\n",
        "Best params: {'kernel': 'rbf', 'C': 5, 'gamma': 0.0001}\n",
        "--------------------------------------------------------------------------------\n"
       ]
      }
     ],
     "prompt_number": 2
    },
    {
     "cell_type": "code",
     "collapsed": false,
     "input": [
      "param_grid = [{'n_estimators': [10, 12, 14, 16, 20, 24, 30, 32, 34],\n",
      "               'learning_rate': [0.12, 0.1, 0.09, 0.08, 0.07, 0.06, 0.05]}]\n",
      "\n",
      "t0 = time.time()\n",
      "gs = GridSearchCV(AdaBoostClassifier(), param_grid=param_grid, scoring='precision_weighted')\n",
      "gs.fit(X, y)\n",
      "print 'GridSearchCV: best_params=', gs.best_params_, '; time=', time.time()-t0\n",
      "\n",
      "t0 = time.time()\n",
      "gs = COGPGridSearch(AdaBoostClassifier(), param_grid=param_grid, scoring='precision_weighted')\n",
      "gs.fit_with_max_evals(X, y, 10)\n",
      "print 'COGPGridSearch: best_params=', gs.best_params_, '; time=', time.time()-t0\n",
      "\n",
      "t0 = time.time()\n",
      "gs = COGPGridSearch(AdaBoostClassifier(), param_grid=param_grid, scoring='precision_weighted')\n",
      "gs.fit_with_max_evals(X, y, 5)\n",
      "print 'COGPGridSearch: best_params=', gs.best_params_, '; time=', time.time()-t0"
     ],
     "language": "python",
     "metadata": {},
     "outputs": [
      {
       "output_type": "stream",
       "stream": "stdout",
       "text": [
        "GridSearchCV: best_params= {'n_estimators': 30, 'learning_rate': 0.1} ; time= 25.1020607948\n",
        "COGPGridSearch: best_params="
       ]
      },
      {
       "output_type": "stream",
       "stream": "stdout",
       "text": [
        " {'n_estimators': 30, 'learning_rate': 0.1} ; time= 5.97996807098\n",
        "COGPGridSearch: best_params="
       ]
      },
      {
       "output_type": "stream",
       "stream": "stdout",
       "text": [
        " {'n_estimators': 30, 'learning_rate': 0.1} ; time= 3.35262918472\n"
       ]
      },
      {
       "output_type": "stream",
       "stream": "stderr",
       "text": [
        "/usr/local/lib/python2.7/dist-packages/sklearn/metrics/classification.py:959: UndefinedMetricWarning: Precision is ill-defined and being set to 0.0 in labels with no predicted samples.\n",
        "  'precision', 'predicted', average, warn_for)\n"
       ]
      }
     ],
     "prompt_number": 3
    },
    {
     "cell_type": "code",
     "collapsed": false,
     "input": [
      "training_dataset = 'Higgs.csv'\n",
      "data = np.array(list(csv.reader(open(training_dataset, 'rb'), delimiter= '\\t')))\n",
      "X_train = np.array(data[1:,1:-2], float)\n",
      "y_train = np.array([int(row[-1] == 's') for row in data[1:]])\n",
      "w_train = np.array([float(row[-2]) for row in data[1:]])"
     ],
     "language": "python",
     "metadata": {},
     "outputs": [],
     "prompt_number": 4
    },
    {
     "cell_type": "code",
     "collapsed": false,
     "input": [
      "param_grid = [{'n_estimators': [10, 15, 20, 25, 28, 30, 32, 35, 50],\n",
      "               'learning_rate': [0.01, 0.05, 0.1, 0.15, 0.20]}]\n",
      "\n",
      "t0 = time.time()\n",
      "gs = COGPGridSearch(AdaBoostClassifier(), param_grid=param_grid, scoring='precision_weighted')\n",
      "gs.fit_with_max_evals(X_train, y_train, 10)\n",
      "print 'COGPGridSearch: best_params=', gs.best_params_, '; time=', time.time()-t0\n",
      "\n",
      "t0 = time.time()\n",
      "gs = GridSearchCV(AdaBoostClassifier(), param_grid=param_grid, scoring='precision_weighted')\n",
      "gs.fit(X_train, y_train)\n",
      "print 'GridSearchCV: best_params=', gs.best_params_, '; time=', time.time()-t0"
     ],
     "language": "python",
     "metadata": {},
     "outputs": [
      {
       "output_type": "stream",
       "stream": "stdout",
       "text": [
        "COGPGridSearch: best_params= {'n_estimators': 50, 'learning_rate': 0.2} ; time= 1543.80339003\n",
        "GridSearchCV: best_params="
       ]
      },
      {
       "output_type": "stream",
       "stream": "stdout",
       "text": [
        " {'n_estimators': 50, 'learning_rate': 0.2} ; time= 4397.79807901\n"
       ]
      }
     ],
     "prompt_number": 5
    },
    {
     "cell_type": "code",
     "collapsed": false,
     "input": [
      "X_1 = X_train[:1000]\n",
      "y_1 = y_train[:1000]\n",
      "\n",
      "param_grid = [{'kernel': ['rbf'], 'gamma': [1e-5, 1e-4, 1e-2],\n",
      "               'C': [1, 5, 10, 50, 100, 200, 500, 1000]}]\n",
      "\n",
      "t0 = time.time()\n",
      "gs = COGPGridSearch(SVC(), param_grid=param_grid, scoring='precision_weighted')\n",
      "gs.fit_with_max_evals(X_1, y_1, 10)\n",
      "print 'COGPGridSearch: best_params=', gs.best_params_, '; time=', time.time()-t0\n",
      "\n",
      "t0 = time.time()\n",
      "gs = COGPGridSearch(SVC(), param_grid=param_grid, scoring='precision_weighted')\n",
      "gs.fit_with_max_evals(X_1, y_1, 18)\n",
      "print 'COGPGridSearch: best_params=', gs.best_params_, '; time=', time.time()-t0\n",
      "\n",
      "t0 = time.time()\n",
      "gs = GridSearchCV(SVC(), param_grid=param_grid, scoring='precision_weighted')\n",
      "gs.fit(X_1, y_1)\n",
      "print 'GridSearchCV: best_params=', gs.best_params_, '; time=', time.time()-t0"
     ],
     "language": "python",
     "metadata": {},
     "outputs": [
      {
       "output_type": "stream",
       "stream": "stdout",
       "text": [
        "COGPGridSearch: best_params= {'kernel': 'rbf', 'C': 100, 'gamma': 1e-05} ; time= 4.53940582275\n",
        "COGPGridSearch: best_params="
       ]
      },
      {
       "output_type": "stream",
       "stream": "stdout",
       "text": [
        " {'kernel': 'rbf', 'C': 100, 'gamma': 1e-05} ; time= 8.27836608887\n",
        "GridSearchCV: best_params="
       ]
      },
      {
       "output_type": "stream",
       "stream": "stdout",
       "text": [
        " {'kernel': 'rbf', 'C': 100, 'gamma': 1e-05} ; time= 9.11620497704\n"
       ]
      }
     ],
     "prompt_number": 6
    },
    {
     "cell_type": "code",
     "collapsed": false,
     "input": [
      "X_1 = X_train[:10000]\n",
      "y_1 = y_train[:10000]\n",
      "\n",
      "param_grid = [{'kernel': ['rbf'], 'gamma': [1e-5, 1e-4, 1e-2],\n",
      "               'C': [1, 5, 10, 50, 100, 200, 500, 1000]}]\n",
      "\n",
      "t0 = time.time()\n",
      "gs = COGPGridSearch(SVC(), param_grid=param_grid, scoring='precision_weighted')\n",
      "gs.fit_with_max_evals(X_1, y_1, 10)\n",
      "print 'COGPGridSearch: best_params=', gs.best_params_, '; time=', time.time()-t0\n",
      "\n",
      "t0 = time.time()\n",
      "gs = COGPGridSearch(SVC(), param_grid=param_grid, scoring='precision_weighted')\n",
      "gs.fit_with_max_evals(X_1, y_1, 18)\n",
      "print 'COGPGridSearch: best_params=', gs.best_params_, '; time=', time.time()-t0\n",
      "\n",
      "t0 = time.time()\n",
      "gs = GridSearchCV(SVC(), param_grid=param_grid, scoring='precision_weighted')\n",
      "gs.fit(X_1, y_1)\n",
      "print 'GridSearchCV: best_params=', gs.best_params_, '; time=', time.time()-t0"
     ],
     "language": "python",
     "metadata": {},
     "outputs": [
      {
       "output_type": "stream",
       "stream": "stdout",
       "text": [
        "COGPGridSearch: best_params= {'kernel': 'rbf', 'C': 10, 'gamma': 1e-05} ; time= 452.218800068\n",
        "COGPGridSearch: best_params="
       ]
      },
      {
       "output_type": "stream",
       "stream": "stdout",
       "text": [
        " {'kernel': 'rbf', 'C': 10, 'gamma': 1e-05} ; time= 825.075581074\n",
        "GridSearchCV: best_params="
       ]
      },
      {
       "output_type": "stream",
       "stream": "stdout",
       "text": [
        " {'kernel': 'rbf', 'C': 10, 'gamma': 1e-05} ; time= 963.731006861\n"
       ]
      }
     ],
     "prompt_number": 7
    },
    {
     "cell_type": "code",
     "collapsed": false,
     "input": [
      "t0 = time.time()\n",
      "gs = COGPGridSearch(SVC(), param_grid=param_grid, scoring='precision_weighted')\n",
      "gs.fit_with_max_evals(X_1, y_1, 3)\n",
      "print 'COGPGridSearch: best_params=', gs.best_params_, '; time=', time.time()-t0"
     ],
     "language": "python",
     "metadata": {},
     "outputs": [
      {
       "output_type": "stream",
       "stream": "stdout",
       "text": [
        "COGPGridSearch: best_params= {'kernel': 'rbf', 'C': 500, 'gamma': 1e-05} ; time= 251.963848114\n"
       ]
      }
     ],
     "prompt_number": 8
    },
    {
     "cell_type": "code",
     "collapsed": false,
     "input": [
      "t0 = time.time()\n",
      "gs = COGPGridSearch(SVC(), param_grid=param_grid, scoring='precision_weighted')\n",
      "gs.fit_with_max_evals(X_1, y_1, 5)\n",
      "print 'COGPGridSearch: best_params=', gs.best_params_, '; time=', time.time()-t0"
     ],
     "language": "python",
     "metadata": {},
     "outputs": [
      {
       "output_type": "stream",
       "stream": "stdout",
       "text": [
        "COGPGridSearch: best_params= {'kernel': 'rbf', 'C': 200, 'gamma': 1e-05} ; time= 321.254750013\n"
       ]
      }
     ],
     "prompt_number": 9
    },
    {
     "cell_type": "code",
     "collapsed": false,
     "input": [
      "t0 = time.time()\n",
      "gs = COGPGridSearch(SVC(), param_grid=param_grid, scoring='precision_weighted')\n",
      "gs.fit_with_max_evals(X_1, y_1, 9)\n",
      "print 'COGPGridSearch: best_params=', gs.best_params_, '; time=', time.time()-t0"
     ],
     "language": "python",
     "metadata": {},
     "outputs": [
      {
       "output_type": "stream",
       "stream": "stdout",
       "text": [
        "COGPGridSearch: best_params= {'kernel': 'rbf', 'C': 50, 'gamma': 1e-05} ; time= 425.824735165\n"
       ]
      }
     ],
     "prompt_number": 10
    },
    {
     "cell_type": "code",
     "collapsed": false,
     "input": [
      "X_2 = X_train\n",
      "y_2 = y_train\n",
      "w_2 = w_train\n",
      "print len(y_2)\n",
      "\n",
      "test_size = 0.25\n",
      "X_2train, X_2test, y_2train, y_2test, w_2train, w_2test = train_test_split(\n",
      "                                                              X_2, y_2, w_2, test_size=test_size, random_state=42\n",
      "                                                          )\n",
      "\n",
      "w_2test *= 1./test_size\n",
      "w_2train *= 1./(1.-test_size)"
     ],
     "language": "python",
     "metadata": {},
     "outputs": [
      {
       "output_type": "stream",
       "stream": "stdout",
       "text": [
        "250000\n"
       ]
      }
     ],
     "prompt_number": 11
    },
    {
     "cell_type": "code",
     "collapsed": false,
     "input": [
      "clf = AdaBoostClassifier(n_estimators=30, learning_rate=0.1)\n",
      "clf.fit(X_2train, y_2train)"
     ],
     "language": "python",
     "metadata": {},
     "outputs": [
      {
       "metadata": {},
       "output_type": "pyout",
       "prompt_number": 12,
       "text": [
        "AdaBoostClassifier(algorithm='SAMME.R', base_estimator=None,\n",
        "          learning_rate=0.1, n_estimators=30, random_state=None)"
       ]
      }
     ],
     "prompt_number": 12
    },
    {
     "cell_type": "code",
     "collapsed": false,
     "input": [
      "signal_threshold = 0.5\n",
      "prob = clf.predict_proba(X_2test).T[1]\n",
      "y_2pred = prob > signal_threshold"
     ],
     "language": "python",
     "metadata": {},
     "outputs": [],
     "prompt_number": 13
    },
    {
     "cell_type": "code",
     "collapsed": false,
     "input": [
      "def AMS(y_test, y_pred, w_test):\n",
      "    s = np.sum(y_test * y_pred * w_test)\n",
      "    b = np.sum((1.-y_test) * y_pred * w_test)\n",
      "    print 's:', s\n",
      "    print 'b:', b\n",
      "    \n",
      "    return np.sqrt(2 * ((s+b+10.)*np.log(1 + s/(b+10.)) - s))\n",
      "\n",
      "print 'Accuracy:', sum(1. for i in range(len(y_2test)) if y_2test[i] == int(y_2pred[i]))/float(len(y_2test))\n",
      "ams = AMS(y_2test, y_2pred, w_2test)\n",
      "print 'AMS: ', ams"
     ],
     "language": "python",
     "metadata": {},
     "outputs": [
      {
       "output_type": "stream",
       "stream": "stdout",
       "text": [
        "Accuracy: "
       ]
      },
      {
       "output_type": "stream",
       "stream": "stdout",
       "text": [
        "0.801744\n",
        "s: 406.033455722\n",
        "b: 27994.6808524\n",
        "AMS:  2.42048326418\n"
       ]
      }
     ],
     "prompt_number": 14
    },
    {
     "cell_type": "code",
     "collapsed": false,
     "input": [
      "signal_threshold = 0.526\n",
      "y_2pred = prob > signal_threshold\n",
      "\n",
      "print 'Accuracy:', sum(1. for i in range(len(y_2test)) if y_2test[i] == int(y_2pred[i]))/float(len(y_2test))\n",
      "ams = AMS(y_2test, y_2pred, w_2test)\n",
      "print 'AMS: ', ams"
     ],
     "language": "python",
     "metadata": {},
     "outputs": [
      {
       "output_type": "stream",
       "stream": "stdout",
       "text": [
        "Accuracy: "
       ]
      },
      {
       "output_type": "stream",
       "stream": "stdout",
       "text": [
        "0.780832\n",
        "s: 290.992438838\n",
        "b: 11443.9562542\n",
        "AMS:  2.707574487\n"
       ]
      }
     ],
     "prompt_number": 15
    },
    {
     "cell_type": "code",
     "collapsed": false,
     "input": [
      "signal_threshold = 0.535\n",
      "y_2pred = prob > signal_threshold\n",
      "\n",
      "print 'Accuracy:', sum(1. for i in range(len(y_2test)) if y_2test[i] == int(y_2pred[i]))/float(len(y_2test))\n",
      "ams = AMS(y_2test, y_2pred, w_2test)\n",
      "print 'AMS: ', ams"
     ],
     "language": "python",
     "metadata": {},
     "outputs": [
      {
       "output_type": "stream",
       "stream": "stdout",
       "text": [
        "Accuracy: "
       ]
      },
      {
       "output_type": "stream",
       "stream": "stdout",
       "text": [
        "0.765792\n",
        "s: 249.420486363\n",
        "b: 8086.20190009\n",
        "AMS:  2.75793552888\n"
       ]
      }
     ],
     "prompt_number": 16
    },
    {
     "cell_type": "code",
     "collapsed": false,
     "input": [
      "signal_threshold = 0.53\n",
      "y_2pred = prob > signal_threshold\n",
      "\n",
      "print 'Accuracy:', sum(1. for i in range(len(y_2test)) if y_2test[i] == int(y_2pred[i]))/float(len(y_2test))\n",
      "ams = AMS(y_2test, y_2pred, w_2test)\n",
      "print 'AMS: ', ams"
     ],
     "language": "python",
     "metadata": {},
     "outputs": [
      {
       "output_type": "stream",
       "stream": "stdout",
       "text": [
        "Accuracy: "
       ]
      },
      {
       "output_type": "stream",
       "stream": "stdout",
       "text": [
        "0.775552\n",
        "s: 271.90458391\n",
        "b: 9809.95562341\n",
        "AMS:  2.73134029491\n"
       ]
      }
     ],
     "prompt_number": 17
    },
    {
     "cell_type": "code",
     "collapsed": false,
     "input": [
      "signal_threshold = 0.531\n",
      "y_2pred = prob > signal_threshold\n",
      "\n",
      "print 'Accuracy:', sum(1. for i in range(len(y_2test)) if y_2test[i] == int(y_2pred[i]))/float(len(y_2test))\n",
      "ams = AMS(y_2test, y_2pred, w_2test)\n",
      "print 'AMS: ', ams"
     ],
     "language": "python",
     "metadata": {},
     "outputs": [
      {
       "output_type": "stream",
       "stream": "stdout",
       "text": [
        "Accuracy: "
       ]
      },
      {
       "output_type": "stream",
       "stream": "stdout",
       "text": [
        "0.77192\n",
        "s: 253.215477107\n",
        "b: 8199.36316725\n",
        "AMS:  2.7805166345\n"
       ]
      }
     ],
     "prompt_number": 18
    },
    {
     "cell_type": "code",
     "collapsed": false,
     "input": [
      "clf = AdaBoostClassifier(n_estimators=50, learning_rate=0.2)\n",
      "clf.fit(X_2train, y_2train)\n",
      "\n",
      "signal_threshold = 0.531\n",
      "prob = clf.predict_proba(X_2test).T[1]\n",
      "y_2pred = prob > signal_threshold\n",
      "\n",
      "print 'Accuracy:', sum(1. for i in range(len(y_2test)) if y_2test[i] == int(y_2pred[i]))/float(len(y_2test))\n",
      "ams = AMS(y_2test, y_2pred, w_2test)\n",
      "print 'AMS: ', ams"
     ],
     "language": "python",
     "metadata": {},
     "outputs": [
      {
       "output_type": "stream",
       "stream": "stdout",
       "text": [
        "Accuracy: "
       ]
      },
      {
       "output_type": "stream",
       "stream": "stdout",
       "text": [
        "0.704976\n",
        "s: 30.6276859702\n",
        "b: 264.409746121\n",
        "AMS:  1.81601786603\n"
       ]
      }
     ],
     "prompt_number": 19
    },
    {
     "cell_type": "code",
     "collapsed": false,
     "input": [
      "signal_threshold = 0.5\n",
      "y_2pred = prob > signal_threshold\n",
      "\n",
      "print 'Accuracy:', sum(1. for i in range(len(y_2test)) if y_2test[i] == int(y_2pred[i]))/float(len(y_2test))\n",
      "ams = AMS(y_2test, y_2pred, w_2test)\n",
      "print 'AMS: ', ams"
     ],
     "language": "python",
     "metadata": {},
     "outputs": [
      {
       "output_type": "stream",
       "stream": "stdout",
       "text": [
        "Accuracy: "
       ]
      },
      {
       "output_type": "stream",
       "stream": "stdout",
       "text": [
        "0.809872\n",
        "s: 425.940550239\n",
        "b: 28990.7534715\n",
        "AMS:  2.4950911517\n"
       ]
      }
     ],
     "prompt_number": 20
    },
    {
     "cell_type": "code",
     "collapsed": false,
     "input": [
      "signal_threshold = 0.51\n",
      "y_2pred = prob > signal_threshold\n",
      "\n",
      "print 'Accuracy:', sum(1. for i in range(len(y_2test)) if y_2test[i] == int(y_2pred[i]))/float(len(y_2test))\n",
      "ams = AMS(y_2test, y_2pred, w_2test)\n",
      "print 'AMS: ', ams"
     ],
     "language": "python",
     "metadata": {},
     "outputs": [
      {
       "output_type": "stream",
       "stream": "stdout",
       "text": [
        "Accuracy: "
       ]
      },
      {
       "output_type": "stream",
       "stream": "stdout",
       "text": [
        "0.802992\n",
        "s: 335.660826208\n",
        "b: 14872.8519999\n",
        "AMS:  2.74117796498\n"
       ]
      }
     ],
     "prompt_number": 21
    },
    {
     "cell_type": "code",
     "collapsed": false,
     "input": [],
     "language": "python",
     "metadata": {},
     "outputs": []
    }
   ],
   "metadata": {}
  }
 ]
}
